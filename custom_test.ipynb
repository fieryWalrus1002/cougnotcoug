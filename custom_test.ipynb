{
 "cells": [
  {
   "cell_type": "code",
   "execution_count": 1,
   "metadata": {},
   "outputs": [
    {
     "name": "stdout",
     "output_type": "stream",
     "text": [
      "tensor([-47.9980,  -1.9520, -27.9780], dtype=torch.float64) tensor([-54.3964,  28.4865, -18.3604], dtype=torch.float64)\n",
      "tensor([-17.9680, -37.9880,   2.0521], dtype=torch.float64) tensor([ -0.3423, -36.3784,  35.6937], dtype=torch.float64)\n",
      "tensor([-20.9710,  16.0661,  37.0871], dtype=torch.float64) tensor([-5.7477, 60.9189, 98.7568], dtype=torch.float64)\n",
      "tensor([-14.9650,   0.0501,  41.0911], dtype=torch.float64) tensor([  5.0631,  32.0901, 105.9640], dtype=torch.float64)\n",
      "tensor([ 19.0691, -24.9750,  27.0771], dtype=torch.float64) tensor([ 66.3243, -12.9550,  80.7387], dtype=torch.float64)\n",
      "tensor([  5.0551, -38.9890, -18.9690], dtype=torch.float64) tensor([ 41.0991, -38.1802,  -2.1441], dtype=torch.float64)\n",
      "tensor([18.0681, 30.0801,  6.0561], dtype=torch.float64) tensor([64.5225, 86.1441, 42.9009], dtype=torch.float64)\n",
      "tensor([48.0981, 31.0811, 23.0731], dtype=torch.float64) tensor([118.5766,  87.9459,  73.5315], dtype=torch.float64)\n",
      "tensor([  3.0531, -36.9870, -45.9960], dtype=torch.float64) tensor([ 37.4955, -34.5766, -50.7928], dtype=torch.float64)\n",
      "tensor([-50.0000, -21.9720,  -3.9540], dtype=torch.float64) tensor([-58.0000,  -7.5495,  24.8829], dtype=torch.float64)\n",
      "tensor([ 11.0611, -28.9790, -15.9660], dtype=torch.float64) tensor([ 51.9099, -20.1622,   3.2613], dtype=torch.float64)\n",
      "tensor([ -8.9590, -48.9990,  46.0961], dtype=torch.float64) tensor([ 15.8739, -56.1982, 114.9730], dtype=torch.float64)\n",
      "tensor([  8.0581, -13.9640,  -5.9560], dtype=torch.float64) tensor([46.5045,  6.8649, 21.2793], dtype=torch.float64)\n",
      "tensor([38.0881, 34.0841, 13.0631], dtype=torch.float64) tensor([100.5586,  93.3514,  55.5135], dtype=torch.float64)\n",
      "tensor([-12.9630, -33.9840,  20.0701], dtype=torch.float64) tensor([  8.6667, -29.1712,  68.1261], dtype=torch.float64)\n",
      "tensor([-19.9700,  32.0821,  17.0671], dtype=torch.float64) tensor([-3.9459, 89.7477, 62.7207], dtype=torch.float64)\n",
      "tensor([-30.9810, -23.9740,  22.0721], dtype=torch.float64) tensor([-23.7658, -11.1532,  71.7297], dtype=torch.float64)\n",
      "tensor([ 12.0621,  40.0901, -29.9800], dtype=torch.float64) tensor([ 53.7117, 104.1622, -21.9640], dtype=torch.float64)\n",
      "tensor([21.0711, 45.0951, 10.0601], dtype=torch.float64) tensor([ 69.9279, 113.1712,  50.1081], dtype=torch.float64)\n",
      "tensor([25.0751, 15.0651, -2.9530], dtype=torch.float64) tensor([77.1351, 59.1171, 26.6847], dtype=torch.float64)\n",
      "tensor([-6.9570,  4.0541, 39.0891], dtype=torch.float64) tensor([ 19.4775,  39.2973, 102.3604], dtype=torch.float64)\n",
      "tensor([ -7.9580, -39.9900, -10.9610], dtype=torch.float64) tensor([ 17.6757, -39.9820,  12.2703], dtype=torch.float64)\n",
      "tensor([-42.9930, -25.9760, -16.9670], dtype=torch.float64) tensor([-45.3874, -14.7568,   1.4595], dtype=torch.float64)\n",
      "tensor([ -4.9550,  42.0921, -44.9950], dtype=torch.float64) tensor([ 23.0811, 107.7658, -48.9910], dtype=torch.float64)\n",
      "tensor([ 47.0971, -26.9770, -34.9850], dtype=torch.float64) tensor([116.7748, -16.5586, -30.9730], dtype=torch.float64)\n",
      "tensor([49.0991,  9.0591, 44.0941], dtype=torch.float64) tensor([120.3784,  48.3063, 111.3694], dtype=torch.float64)\n",
      "tensor([  7.0571, -35.9860, -22.9730], dtype=torch.float64) tensor([ 44.7027, -32.7748,  -9.3514], dtype=torch.float64)\n",
      "tensor([-31.9820,  26.0761,  14.0641], dtype=torch.float64) tensor([-25.5676,  78.9369,  57.3153], dtype=torch.float64)\n",
      "tensor([ 1.0511, 29.0791, -0.9510], dtype=torch.float64) tensor([33.8919, 84.3423, 30.2883], dtype=torch.float64)\n",
      "tensor([36.0861, 28.0781, 43.0931], dtype=torch.float64) tensor([ 96.9550,  82.5405, 109.5676], dtype=torch.float64)\n",
      "tensor([-40.9910, -43.9940,  24.0741], dtype=torch.float64) tensor([-41.7838, -47.1892,  75.3333], dtype=torch.float64)\n",
      "tensor([ 33.0831, -11.9620, -32.9830], dtype=torch.float64) tensor([ 91.5495,  10.4685, -27.3694], dtype=torch.float64)\n",
      "tensor([-46.9970,  -9.9600,  35.0851], dtype=torch.float64) tensor([-52.5946,  14.0721,  95.1532], dtype=torch.float64)\n",
      "tensor([-41.9920], dtype=torch.float64) tensor([-43.5856], dtype=torch.float64)\n"
     ]
    }
   ],
   "source": [
    "from custom_dataset import Censius2FahrenheitDataset\n",
    "from torch.utils.data import DataLoader\n",
    "\n",
    "dataset = Censius2FahrenheitDataset(is_train=False)\n",
    "dataloader = DataLoader(dataset, batch_size=3, shuffle=True)\n",
    "\n",
    "for celsius, fahrenheit in dataloader:\n",
    "    print(celsius, fahrenheit)\n"
   ]
  }
 ],
 "metadata": {
  "interpreter": {
   "hash": "b981d8464131cb1987544d0a1b30f5a81cae9369015b1d7a45e512c0945a6c8a"
  },
  "kernelspec": {
   "display_name": "Python 3.9.12",
   "language": "python",
   "name": "python3"
  },
  "language_info": {
   "codemirror_mode": {
    "name": "ipython",
    "version": 3
   },
   "file_extension": ".py",
   "mimetype": "text/x-python",
   "name": "python",
   "nbconvert_exporter": "python",
   "pygments_lexer": "ipython3",
   "version": "3.9.12"
  },
  "orig_nbformat": 4
 },
 "nbformat": 4,
 "nbformat_minor": 2
}
